{
 "cells": [
  {
   "attachments": {},
   "cell_type": "markdown",
   "id": "601a3d7a-ad72-4cbd-ba50-c97d8325e94a",
   "metadata": {},
   "source": [
    "# Libraries"
   ]
  },
  {
   "cell_type": "code",
   "execution_count": 1,
   "id": "308f9d6f-d1ba-45bd-9b78-667345511f4d",
   "metadata": {},
   "outputs": [],
   "source": [
    "from graph_creation import create_mesh_dataset, save_database, create_dataset_folders"
   ]
  },
  {
   "cell_type": "code",
   "execution_count": 2,
   "id": "916ef043",
   "metadata": {},
   "outputs": [],
   "source": [
    "create_dataset_folders(dataset_folder='datasets')"
   ]
  },
  {
   "attachments": {},
   "cell_type": "markdown",
   "id": "b8240b03-00a7-41a0-a21d-10cf12500c2b",
   "metadata": {
    "tags": []
   },
   "source": [
    "# Create and save pytorch geometric dataset"
   ]
  },
  {
   "cell_type": "code",
   "execution_count": 3,
   "id": "152d32d7",
   "metadata": {},
   "outputs": [],
   "source": [
    "# dataset_folder, dataset_name, dataset_dir, with_multiscale, start_sim_id, n_sim\n",
    "simulation_ids = [\n",
    "    ['./raw_datasets_mesh', 'mesh_dataset','datasets/train', False, 1, 80],\n",
    "    ['./raw_datasets_mesh', 'mesh_dataset','datasets/test', False, 81, 20],\n",
    "    ['./raw_datasets_mesh', 'multiscale_mesh_dataset','datasets/train', True, 1, 80],\n",
    "    ['./raw_datasets_mesh', 'multiscale_mesh_dataset','datasets/test', True, 81, 20],\n",
    "    ['./raw_datasets_dk15', 'dijkring_15_big','datasets/test', True, 101, 11],\n",
    "    ['./raw_datasets_dk15', 'dijkring_15_big_fine','datasets/test', False, 101, 11],\n",
    "]"
   ]
  },
  {
   "cell_type": "code",
   "execution_count": 4,
   "id": "b4aa96a4",
   "metadata": {},
   "outputs": [
    {
     "name": "stderr",
     "output_type": "stream",
     "text": [
      "100%|██████████| 80/80 [00:45<00:00,  1.76it/s]\n",
      "100%|██████████| 20/20 [00:11<00:00,  1.79it/s]\n",
      "100%|██████████| 80/80 [04:32<00:00,  3.41s/it]\n",
      "100%|██████████| 20/20 [01:07<00:00,  3.38s/it]\n",
      "100%|██████████| 11/11 [01:38<00:00,  8.92s/it]\n",
      "100%|██████████| 11/11 [00:13<00:00,  1.21s/it]\n"
     ]
    }
   ],
   "source": [
    "for dataset_folder, dataset_name, dataset_dir, with_multiscale, start_sim_id, n_sim in simulation_ids:\n",
    "   mesh_dataset = create_mesh_dataset(dataset_folder, n_sim, start_sim_id, \n",
    "                                      with_multiscale=with_multiscale, number_of_multiscales=4,\n",
    "                                      )\n",
    "   \n",
    "   if dataset_name[:8] == 'dijkring':\n",
    "      train_dataset = [mesh_dataset[0]]\n",
    "      test_dataset = mesh_dataset[1:]\n",
    "      save_database(train_dataset, name=dataset_name, out_path='datasets/train')\n",
    "      save_database(test_dataset, name=dataset_name, out_path='datasets/test')\n",
    "   else:\n",
    "      save_database(mesh_dataset, name=dataset_name, out_path=dataset_dir)"
   ]
  },
  {
   "cell_type": "code",
   "execution_count": 5,
   "id": "8b2c654a",
   "metadata": {},
   "outputs": [
    {
     "data": {
      "text/plain": [
       "Data variables:\n",
       "    projected_coordinate_system  int32 4B ...\n",
       "    mesh2d                       int32 4B ...\n",
       "    mesh2d_node_z                (mesh2d_nNodes) float64 38kB ...\n",
       "    mesh2d_edge_nodes            (mesh2d_nEdges, Two) int32 114kB ...\n",
       "    mesh2d_face_nodes            (mesh2d_nFaces, mesh2d_nMax_face_nodes) float64 301kB ...\n",
       "    mesh2d_edge_faces            (mesh2d_nEdges, Two) float64 227kB ...\n",
       "    mesh2d_face_x_bnd            (mesh2d_nFaces, mesh2d_nMax_face_nodes) float64 301kB ...\n",
       "    mesh2d_face_y_bnd            (mesh2d_nFaces, mesh2d_nMax_face_nodes) float64 301kB ...\n",
       "    mesh2d_edge_type             (mesh2d_nEdges) float64 114kB ...\n",
       "    mesh2d_flowelem_ba           (mesh2d_nFaces) float64 75kB ...\n",
       "    mesh2d_flowelem_bl           (mesh2d_nFaces) float64 75kB ...\n",
       "    timestep                     (time) float64 776B ...\n",
       "    mesh2d_Numlimdt              (time, mesh2d_nFaces) float64 7MB ...\n",
       "    mesh2d_s1                    (time, mesh2d_nFaces) float64 7MB ...\n",
       "    mesh2d_waterdepth            (time, mesh2d_nFaces) float64 7MB ...\n",
       "    mesh2d_u1                    (time, mesh2d_nEdges) float64 11MB ...\n",
       "    mesh2d_ucx                   (time, mesh2d_nFaces) float64 7MB ...\n",
       "    mesh2d_ucy                   (time, mesh2d_nFaces) float64 7MB ...\n",
       "    mesh2d_ucmag                 (time, mesh2d_nFaces) float64 7MB ...\n",
       "    mesh2d_q1                    (time, mesh2d_nEdges) float64 11MB ..."
      ]
     },
     "execution_count": 5,
     "metadata": {},
     "output_type": "execute_result"
    }
   ],
   "source": [
    "import xarray as xr\n",
    "netcdf_file ='raw_datasets_mesh/Simulations/output_1_map.nc'\n",
    "nc_dataset = xr.open_dataset(netcdf_file)\n",
    "nc_dataset.data_vars"
   ]
  },
  {
   "cell_type": "code",
   "execution_count": null,
   "id": "c176aeae",
   "metadata": {},
   "outputs": [],
   "source": []
  }
 ],
 "metadata": {
  "kernelspec": {
   "display_name": "venv",
   "language": "python",
   "name": "python3"
  },
  "language_info": {
   "codemirror_mode": {
    "name": "ipython",
    "version": 3
   },
   "file_extension": ".py",
   "mimetype": "text/x-python",
   "name": "python",
   "nbconvert_exporter": "python",
   "pygments_lexer": "ipython3",
   "version": "3.10.16"
  }
 },
 "nbformat": 4,
 "nbformat_minor": 5
}
